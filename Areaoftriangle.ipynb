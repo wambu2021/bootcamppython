{
  "nbformat": 4,
  "nbformat_minor": 0,
  "metadata": {
    "colab": {
      "name": "Untitled0.ipynb",
      "provenance": [],
      "authorship_tag": "ABX9TyPGWepao7QBZdwCa4tLPfBn",
      "include_colab_link": true
    },
    "kernelspec": {
      "name": "python3",
      "display_name": "Python 3"
    },
    "language_info": {
      "name": "python"
    }
  },
  "cells": [
    {
      "cell_type": "markdown",
      "metadata": {
        "id": "view-in-github",
        "colab_type": "text"
      },
      "source": [
        "<a href=\"https://colab.research.google.com/github/wambu2021/bootcamppython/blob/main/Areaoftriangle.ipynb\" target=\"_parent\"><img src=\"https://colab.research.google.com/assets/colab-badge.svg\" alt=\"Open In Colab\"/></a>"
      ]
    },
    {
      "cell_type": "code",
      "metadata": {
        "colab": {
          "base_uri": "https://localhost:8080/"
        },
        "id": "P0x2NIZmhQ4p",
        "outputId": "d5bc4e7b-c226-488e-95a0-49f6d79a11f9"
      },
      "source": [
        "print(\"hello\")"
      ],
      "execution_count": null,
      "outputs": [
        {
          "output_type": "stream",
          "name": "stdout",
          "text": [
            "hello\n"
          ]
        }
      ]
    },
    {
      "cell_type": "markdown",
      "metadata": {
        "id": "Q10VrdXJmrWF"
      },
      "source": [
        "Letter | Digit | Character\n",
        "------ | ------|----------\n",
        "a      | 4     | $\n",
        "       | 365   | (\n",
        "b      |       | ^  "
      ]
    },
    {
      "cell_type": "markdown",
      "metadata": {
        "id": "rDRK1UVhm5qC"
      },
      "source": [
        ""
      ]
    },
    {
      "cell_type": "code",
      "metadata": {
        "colab": {
          "base_uri": "https://localhost:8080/"
        },
        "id": "NtOb_N-Tm8IS",
        "outputId": "61962d34-9b1d-4d83-d8ac-001d3602113a"
      },
      "source": [
        "a=12\n",
        "b=8\n",
        "c = b + a\n",
        "print(c)"
      ],
      "execution_count": null,
      "outputs": [
        {
          "output_type": "stream",
          "name": "stdout",
          "text": [
            "20\n"
          ]
        }
      ]
    },
    {
      "cell_type": "code",
      "metadata": {
        "colab": {
          "base_uri": "https://localhost:8080/"
        },
        "id": "gQLt_Rp9nU45",
        "outputId": "b1a4ad9c-fa4b-4a2e-fda7-f3593a5cba50"
      },
      "source": [
        "a=20\n",
        "b=18\n",
        "c=a-b \n",
        "print (a-b)"
      ],
      "execution_count": null,
      "outputs": [
        {
          "output_type": "stream",
          "name": "stdout",
          "text": [
            "2\n"
          ]
        }
      ]
    },
    {
      "cell_type": "code",
      "metadata": {
        "colab": {
          "base_uri": "https://localhost:8080/"
        },
        "id": "sO2GedDXoEGa",
        "outputId": "3a71929a-bd65-4907-b0bd-097c3c072164"
      },
      "source": [
        "a=12\n",
        "b=8\n",
        "c=a*b\n",
        "print (c)"
      ],
      "execution_count": null,
      "outputs": [
        {
          "output_type": "stream",
          "name": "stdout",
          "text": [
            "96\n"
          ]
        }
      ]
    },
    {
      "cell_type": "code",
      "metadata": {
        "colab": {
          "base_uri": "https://localhost:8080/"
        },
        "id": "DXe3NSttof36",
        "outputId": "8c57921e-cf37-4f57-8cc5-5d30ea8f9892"
      },
      "source": [
        "a=14\n",
        "b=92\n",
        "c=a/b\n",
        "print (c)"
      ],
      "execution_count": null,
      "outputs": [
        {
          "output_type": "stream",
          "name": "stdout",
          "text": [
            "0.15217391304347827\n"
          ]
        }
      ]
    },
    {
      "cell_type": "code",
      "metadata": {
        "colab": {
          "base_uri": "https://localhost:8080/"
        },
        "id": "9XhgwaSbzIk6",
        "outputId": "6614a0f7-77d0-4191-8121-874e8c3fc56f"
      },
      "source": [
        "# Store input numbers\n",
        "b = input('Enter b: ')\n",
        "h = input('Enter h: ')\n",
        "\n",
        "# Add two numbers\n",
        "Area = 0.5*float(b) + float(h)\n",
        "\n",
        "# Display the sum\n",
        "print('The Area of triangle base and height is {0} and {1} is {2}'.format(b, h, Area))"
      ],
      "execution_count": 16,
      "outputs": [
        {
          "output_type": "stream",
          "name": "stdout",
          "text": [
            "Enter b: 18\n",
            "Enter h: 8\n",
            "The Area of triangle base and height is 18 and 8 is 17.0\n"
          ]
        }
      ]
    }
  ]
}